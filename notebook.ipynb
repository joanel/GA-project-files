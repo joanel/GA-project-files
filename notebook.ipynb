{
  "metadata": {
    "kernelspec": {
      "display_name": "Python 3",
      "language": "python",
      "name": "python3"
    },
    "language_info": {
      "codemirror_mode": {
        "name": "ipython",
        "version": 3
      },
      "file_extension": ".py",
      "mimetype": "text/x-python",
      "name": "python",
      "nbconvert_exporter": "python",
      "pygments_lexer": "ipython3",
      "version": "3.6.0"
    }
  },
  "nbformat": 4,
  "nbformat_minor": 0,
  "cells": [
    {
      "cell_type": "markdown",
      "source": "Exploring Cause of death dataset",
      "metadata": {}
    },
    {
      "cell_type": "code",
      "source": "# This Python 3 environment comes with many helpful analytics libraries installed\n# It is defined by the kaggle/python docker image: https://github.com/kaggle/docker-python\n# For example, here's several helpful packages to load in \n\nimport numpy as np # linear algebra\nimport pandas as pd # data processing, CSV file I/O (e.g. pd.read_csv)\n%matplotlib inline\n\nimport matplotlib.pyplot as plt\nimport seaborn as sb\nsb.set()\n\n# Input data files are available in the \"../input/\" directory.\n# For example, running this (by clicking run or pressing Shift+Enter) will list the files in the input directory\n\nfrom subprocess import check_output\nprint(check_output([\"ls\", \"../input\"]).decode(\"utf8\"))\n\n# Any results you write to the current directory are saved as output.",
      "execution_count": null,
      "outputs": [],
      "metadata": {}
    },
    {
      "cell_type": "code",
      "source": "death_rate = pd.read_csv('../input/Death_Rates1900-2013.csv')\ndeath_cause = pd.read_csv('../input/leading_cause_death.csv')",
      "execution_count": null,
      "outputs": [],
      "metadata": {}
    },
    {
      "cell_type": "code",
      "source": "# check if there are any empty or Nan data in the dataset\nprint(death_rate.isnull().any())\nprint()\nprint(death_cause.isnull().any())",
      "execution_count": null,
      "outputs": [],
      "metadata": {}
    },
    {
      "cell_type": "code",
      "source": "print(death_rate.info())\nprint()\nprint(death_cause.info())",
      "execution_count": null,
      "outputs": [],
      "metadata": {}
    },
    {
      "cell_type": "code",
      "source": "# modify some datasets. delete the formal cause of death data\ndeath_cause.drop(['113_CAUSE_NAME'], axis=1,inplace=True)",
      "execution_count": null,
      "outputs": [],
      "metadata": {}
    },
    {
      "cell_type": "code",
      "source": "# change the column name capitalization\ndeath_cause.columns = death_cause.columns.str.capitalize()\n\n# ... then change the data type of the DEATHS, ADDR ...\n# this throws an error\n# investigating shows the presence of non-float values in the two columns\n# replace them \ntry:\n    death_cause.loc[death_cause.Deaths == 'x', 'Deaths'] = 0\nexcept (RuntimeError, TypeError, NameError):\n    #print(\"Oops we may have already removed these {}, {}, {}\".format(RuntimeError))\n    pass\ntry:\n    death_cause.loc[death_cause.Aadr == '*', 'Aadr'] = 0\nexcept:\n    pass\ntry:\n    death_cause.loc[death_cause.Aadr == 'x', 'Aadr'] = 0\nexcept:\n    pass\n# remove rows where State = United States\n# death_cause.groupby('State')['Cause_name'].count() ‐‐ shows values with United States\ntry:\n    death_cause = death_cause[death_cause.State != 'United States']\nexcept:\n    pass\n\n#death_cause.Deaths = death_cause.[0 if x == 'x' for x in death_cause.Deaths ]#death_cause.map(lambda x: x=='x' )\n# and then convert to numeric values\ndeath_cause['Deaths'] = pd.to_numeric(death_cause['Deaths']) #, errors='coerce')\ndeath_cause['Aadr'] = pd.to_numeric(death_cause['Aadr'])\ndeath_cause.describe()\nprint()\n# run into a provlem with some rows have 'x' and or '*' in 'Deaths' and 'Aadr' columns respectively\n#death_cause['Deaths'] = death_cause['Deaths'].map({'x':0})\n#death_cause['Aadr'] = death_cause['Aadr'].map({'*':0})\ndeath_cause.info()",
      "execution_count": null,
      "outputs": [],
      "metadata": {}
    },
    {
      "cell_type": "code",
      "source": "death_cause.describe()",
      "execution_count": null,
      "outputs": [],
      "metadata": {}
    },
    {
      "cell_type": "code",
      "source": "deaths_by_cause = death_cause.groupby(['Year','Cause_name'])['Deaths'].sum().unstack() * 1/1000000\ndeaths_by_cause",
      "execution_count": null,
      "outputs": [],
      "metadata": {}
    },
    {
      "cell_type": "code",
      "source": "#death_cause[death_cause.Cause_name == 'All Causes']\n# remove rows where Cause_name = 'All Causes'\nidx = death_cause.index[death_cause.Cause_name == 'All Causes']\ndeath_cause.drop(idx, inplace=True)",
      "execution_count": null,
      "outputs": [],
      "metadata": {}
    },
    {
      "cell_type": "code",
      "source": "#deaths_by_cause = death_cause.groupby(['Year','Cause_name'])['Deaths'].aggregate(['sum']).unstack() * 1/1000 #['min','max', np.mean, np.std])\ndeaths_by_cause = death_cause.pivot_table('Deaths',index='Year', columns='Cause_name', aggfunc='sum') / 1e6\ndeaths_by_cause # = deaths_by_cause /1e6",
      "execution_count": null,
      "outputs": [],
      "metadata": {}
    },
    {
      "cell_type": "code",
      "source": "deaths_by_cause.plot(figsize=(10,7)).legend(loc='center left', bbox_to_anchor=(1, 0.5),\n                                            fancybox=True, shadow=True);\nplt.ylabel('Total Deaths in millions');\n# We can clearly see that Heart Diseases and Cancer are the leading \n# causes of death each year since 2009. ",
      "execution_count": null,
      "outputs": [],
      "metadata": {}
    },
    {
      "cell_type": "code",
      "source": "deaths_by_cause['Cancer'] / deaths_by_cause\ndeaths_by_cause = death_cause.pivot_table('Deaths',index='Year', columns='Cause_name',\n                                          aggfunc='sum', margins= True) / 1e6\nmajor_causes = 100 * deaths_by_cause[['Cancer','Diseases of Heart']\n                                    ].sum(axis=1) /deaths_by_cause[:].sum(axis=1)\nmajor_causes.plot()\nplt.ylabel('% of Total Deaths due to Cancer & Heart Disease');\n# This shows the sum of leading causes of death decreasing steadily till 2013\n# and then rising sharply the next year\n# from the previous plot. The recent increases are mostly due to rising Heart Disease",
      "execution_count": null,
      "outputs": [],
      "metadata": {}
    },
    {
      "cell_type": "code",
      "source": "#with sb.axes_style('white'):\n# g = sb.factorplot(x='Cause_Name', y='Deaths', data=death_cause[death_cause.Year!= y], aspect=2,\n# hue=\"Cause_name\", kind='bar')\n# for each year and cause which state has the highest number of deaths and how many deaths\ncause_by_state = death_cause.pivot_table('Deaths',index=['Year','Cause_name'], \n                                         columns='State', aggfunc='sum') / 1e3\n#cause_by_state",
      "execution_count": null,
      "outputs": [],
      "metadata": {}
    },
    {
      "cell_type": "code",
      "source": "zz = cause_by_state.index.levels\n#print(death_cause['State'].unique().size)\n#max_by_state = np.array((death_cause['State'].unique().size * death_cause['Year'].unique().size, 3))\nyears = []\ncause = []\ndeaths = []\nstate =[]\n#print(max_by_state.shape)\nfor yr in zz[0]:\n    #print('For year:', y)\n    for cs in zz[1]:\n        try:\n            dths = cause_by_state.loc[yr,cs].max()\n            stt = cause_by_state.loc[yr,cs].idxmax()\n            years.append(yr)\n            cause.append(cs)\n            deaths.append(dths*1000)\n            state.append(stt)\n        except:\n            pass\nmax_cause_deaths = pd.DataFrame({'year':years, 'state':state,\n                                'cause_of_max_death':cause, 'deaths_from_cause': deaths})\n# would have been nice to have state population data \nmax_cause_deaths.query('year == 2004')",
      "execution_count": null,
      "outputs": [],
      "metadata": {}
    }
  ]
}